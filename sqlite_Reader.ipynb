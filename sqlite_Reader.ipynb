{
 "cells": [
  {
   "cell_type": "markdown",
   "id": "39e88bd2-680b-4562-a7da-240b16dd2721",
   "metadata": {},
   "source": [
    "## i hate ms office enough to write this to dlelete the cookies in mozzila \n",
    "it uses sqlite to reade the cookies file inthe profile of mozila\n",
    "C:\\Users\\YourUsername\\AppData\\Roaming\\Mozilla\\Firefox\\\n"
   ]
  },
  {
   "cell_type": "code",
   "execution_count": 2,
   "id": "a8a014e3-f716-47a8-8236-d98b4e25c864",
   "metadata": {},
   "outputs": [
    {
     "name": "stdout",
     "output_type": "stream",
     "text": [
      "[('moz_cookies',)]\n"
     ]
    }
   ],
   "source": [
    "#open file \n",
    "import sqlite3 as sq \n",
    "\n",
    "# loading in modules\n",
    "import sqlite3\n",
    "\n",
    "# creating file path\n",
    "dbfile = 'c:/Users/stu_w/AppData/Roaming/Mozilla/Firefox/Profiles/ox79b1dn.default-release/cookies.sqlite'\n",
    "# Create a SQL connection to our SQLite database\n",
    "con = sqlite3.connect(dbfile)\n",
    "\n",
    "# creating cursor\n",
    "cur = con.cursor()\n",
    "\n",
    "# reading all table names\n",
    "table_list = [a for a in cur.execute(\"SELECT name FROM sqlite_master WHERE type = 'table'\")]\n",
    "# here is you table list\n",
    "print(table_list)\n",
    "\n",
    "# Be sure to close the connection\n",
    "con.close()"
   ]
  },
  {
   "cell_type": "code",
   "execution_count": null,
   "id": "69d012d2-25b3-4004-bd73-7e2f04bcc469",
   "metadata": {},
   "outputs": [],
   "source": []
  }
 ],
 "metadata": {
  "kernelspec": {
   "display_name": "Python 3 (ipykernel)",
   "language": "python",
   "name": "python3"
  },
  "language_info": {
   "codemirror_mode": {
    "name": "ipython",
    "version": 3
   },
   "file_extension": ".py",
   "mimetype": "text/x-python",
   "name": "python",
   "nbconvert_exporter": "python",
   "pygments_lexer": "ipython3",
   "version": "3.13.3"
  }
 },
 "nbformat": 4,
 "nbformat_minor": 5
}
