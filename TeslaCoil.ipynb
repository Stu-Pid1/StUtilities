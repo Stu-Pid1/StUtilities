{
 "cells": [
  {
   "cell_type": "markdown",
   "id": "c5364f8b-86bd-44a6-8402-6e3e5e341a54",
   "metadata": {},
   "source": [
    "# Tesla coil \n",
    "calculations "
   ]
  },
  {
   "cell_type": "markdown",
   "id": "ae7a2e37-9e67-4943-b178-57fefd3dc19f",
   "metadata": {},
   "source": [
    "## Primary coil inductiance \n"
   ]
  },
  {
   "cell_type": "code",
   "execution_count": 2,
   "id": "a69a936f-458c-455c-83f2-1c7215de11f7",
   "metadata": {},
   "outputs": [
    {
     "name": "stdout",
     "output_type": "stream",
     "text": [
      "inductance calculated to be:  0.06682906532065626 [H]\n",
      "3.947841760435743e-08\n"
     ]
    }
   ],
   "source": [
    "%run Electronics_libs.ipynb\n",
    "nturns = 920 \n",
    "tube_r = 0.1 # m \n",
    "tube_h = 0.5 # m \n",
    "induct = calculate_inductance(nturns, tube_r, tube_h)\n",
    "print(\"inductance calculated to be: \", induct, \"[H]\") \n"
   ]
  },
  {
   "cell_type": "markdown",
   "id": "d4af967b-3d54-464e-992d-ca5f8c240153",
   "metadata": {},
   "source": [
    "## capacitance \n",
    "Assume the dome is giving the majority of the capacitance\n"
   ]
  },
  {
   "cell_type": "code",
   "execution_count": 6,
   "id": "1a9ae59c-d73d-495c-8c47-c6741241d9cf",
   "metadata": {},
   "outputs": [
    {
     "name": "stdout",
     "output_type": "stream",
     "text": [
      "the capcitence of the dome is assumed to be:  2.3822126786786925e-11 [F]\n"
     ]
    }
   ],
   "source": [
    "import math\n",
    "def calculate_toroid_capacitance(R, r):\n",
    "    \"\"\"\n",
    "    Approximate the self-capacitance of a metallic toroid in vacuum (SI units).\n",
    "    :param R: Major radius (center of toroid to center of tube) in meters\n",
    "    :param r: Minor radius (radius of the tube) in meters\n",
    "    :return: Capacitance in farads (F)\n",
    "    \"\"\"\n",
    "    epsilon_0 = 8.854187817e-12  # Vacuum permittivity in F/m\n",
    "    if r <= 0 or R <= 0 or r >= R:\n",
    "        raise ValueError(\"Ensure 0 < r < R for a valid toroid geometry.\")\n",
    "    ln_term = math.log(8 * R / r)\n",
    "    capacitance = 8 * math.pi * epsilon_0 * R / (ln_term - 2)\n",
    "    return capacitance\n",
    "top_r =0.15 \n",
    "top_rr = 0.04\n",
    "top_cap= calculate_toroid_capacitance(top_r, top_rr)\n",
    "print(\"the capcitence of the dome is assumed to be: \",top_cap, \"[F]\") \n"
   ]
  },
  {
   "cell_type": "markdown",
   "id": "dbff770e-cb00-426a-8ce4-bdd3e4c6ec24",
   "metadata": {},
   "source": [
    "## resonate frequency"
   ]
  },
  {
   "cell_type": "code",
   "execution_count": 8,
   "id": "813df7a0-a25f-4ff7-b326-34101b0f1d7d",
   "metadata": {},
   "outputs": [
    {
     "name": "stdout",
     "output_type": "stream",
     "text": [
      "the coils resonant freqeuncy is : 126138.35769661592 [Hz]\n"
     ]
    }
   ],
   "source": [
    "Res_f = calculate_resonant_frequency(induct, top_cap)\n",
    "print(\"the coils resonant freqeuncy is :\", Res_f,\"[Hz]\") "
   ]
  },
  {
   "cell_type": "code",
   "execution_count": null,
   "id": "649e23ba-3f59-4f69-bbff-922711cc7836",
   "metadata": {},
   "outputs": [],
   "source": []
  }
 ],
 "metadata": {
  "kernelspec": {
   "display_name": "Python 3 (ipykernel)",
   "language": "python",
   "name": "python3"
  },
  "language_info": {
   "codemirror_mode": {
    "name": "ipython",
    "version": 3
   },
   "file_extension": ".py",
   "mimetype": "text/x-python",
   "name": "python",
   "nbconvert_exporter": "python",
   "pygments_lexer": "ipython3",
   "version": "3.13.3"
  }
 },
 "nbformat": 4,
 "nbformat_minor": 5
}
