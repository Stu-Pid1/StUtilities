{
 "cells": [
  {
   "cell_type": "markdown",
   "id": "c12a5f38-1fbc-43a2-9ba3-824902114e52",
   "metadata": {},
   "source": [
    "# graphics lib for beams \n",
    "Its a home made library to generate beam layouts and images of the transport/beam optics maps used in this class of stuff. The defined system is carteasian with the beam axis, S, as Z and vertical on beam axis is Y. <br> \n",
    "Version and bugs: <br> \n",
    "V0: draw simple shapes for elemets in one axis \n"
   ]
  },
  {
   "cell_type": "code",
   "execution_count": 5,
   "id": "a5be854d-2416-4a74-9a1f-c09435e33a30",
   "metadata": {},
   "outputs": [],
   "source": [
    "import matplotlib.pyplot as plt\n",
    "import sys\n",
    "from vpython import *       \n",
    "import numpy as np\n",
    "fig  = None\n",
    "canv = None     \n",
    "        "
   ]
  },
  {
   "cell_type": "code",
   "execution_count": 2,
   "id": "56b89732-c58a-44e5-acd3-8ee1888a9aae",
   "metadata": {},
   "outputs": [],
   "source": [
    "def DrawElement(el = e, colour = [0,0,0] ):\n",
    "    \n",
    "    etype = el['Element']\n",
    "    if(etype == 'BendingMag'):\n",
    "        cr = shapes.circle(radius=2)\n",
    "\n"
   ]
  },
  {
   "cell_type": "code",
   "execution_count": 3,
   "id": "bdf41f5d-b75e-4629-8b21-ee372f60a179",
   "metadata": {},
   "outputs": [],
   "source": [
    "def DrawTheBeamLine(cmds = [], El= [], axis = 'x'):\n",
    "    fig= plt.Figure()\n",
    "    canv = canvas()\n",
    "    for E in EL: \n",
    "        DrawElement(el = e)"
   ]
  },
  {
   "cell_type": "code",
   "execution_count": 2,
   "id": "ce10935f-0573-4074-8741-8ca9ffbd0bb1",
   "metadata": {
    "tags": []
   },
   "outputs": [
    {
     "data": {
      "text/html": [
       "<div id=\"glowscript\" class=\"glowscript\"></div>"
      ],
      "text/plain": [
       "<IPython.core.display.HTML object>"
      ]
     },
     "metadata": {},
     "output_type": "display_data"
    },
    {
     "data": {
      "application/javascript": [
       "if (typeof Jupyter !== \"undefined\") { window.__context = { glowscript_container: $(\"#glowscript\").removeAttr(\"id\")};}else{ element.textContent = ' ';}"
      ],
      "text/plain": [
       "<IPython.core.display.Javascript object>"
      ]
     },
     "metadata": {},
     "output_type": "display_data"
    },
    {
     "data": {
      "text/plain": [
       "'\\ncirc = shapes.circle(radius=3)\\nrect = shapes.rectangle(width=0.2, height=0.4)\\ncircpath = paths.circle(radius=3)\\nextrusion(path=circpath, shape=rect, color=color.red)\\n'"
      ]
     },
     "execution_count": 2,
     "metadata": {},
     "output_type": "execute_result"
    }
   ],
   "source": [
    "import matplotlib.pyplot as plt\n",
    "import sys\n",
    "from vpython import * \n",
    "fig = plt.Figure()\n",
    "canv = canvas()\n",
    "#test\n",
    "'''\n",
    "circ = shapes.circle(radius=3)\n",
    "rect = shapes.rectangle(width=0.2, height=0.4)\n",
    "circpath = paths.circle(radius=3)\n",
    "extrusion(path=circpath, shape=rect, color=color.red)\n",
    "'''"
   ]
  },
  {
   "cell_type": "code",
   "execution_count": 4,
   "id": "2cd1e7d3-4fc7-4286-8bee-8f036b0cff3d",
   "metadata": {
    "collapsed": true,
    "jupyter": {
     "outputs_hidden": true,
     "source_hidden": true
    },
    "tags": []
   },
   "outputs": [
    {
     "data": {
      "text/plain": [
       "'\\n#install all packages listed \\nimport pip\\nfrom subprocess import call\\n\\n# to install \\nlist2install = [\\'aiohttp\\', \\'aiosignal\\', \\'alabaster\\', \\'anyio\\', \\'argon2-cffi\\', \\'argon2-cffi-bindings\\', \\n \\'asttokens\\', \\'async-timeout\\', \\'attrs\\', \\'autobahn\\', \\'automat\\', \\'babel\\', \\'backcall\\', \\n \\'beautifulsoup4\\', \\'bleach\\', \\'blinker\\', \\'certifi\\', \\'cffi\\', \\'chaospy\\', \\'chardet\\', \\n \\'charset-normalizer\\', \\'chart-studio\\', \\'circular\\', \\'click\\', \\'cloud-init\\', \\'cmyt\\', \\n \\'colorama\\', \\'colorspacious\\', \\'command-not-found\\', \\'configobj\\', \\'constantly\\',\\n \\'contourpy\\', \\'cryptography\\', \\'cupshelpers\\', \\'cycler\\', \\'cython\\', \\'cytoolz\\',\\n \\'dbus-python\\', \\'debugpy\\', \\'decorator\\', \\'defer\\', \\'defusedxml\\', \\'deprecation\\',\\n \\'distlib\\', \\'distro\\', \\'distro-info\\', \\'docutils\\', \\'entrypoints\\', \\'ess-python-tools\\', \\n \\'exceptiongroup\\', \\'executing\\', \\'fastjsonschema\\', \\'filelock\\', \\'fonttools\\', \\n \\'frozenlist\\', \\'h5py\\', \\'httplib2\\', \\'hyperlink\\', \\'idna\\', \\'imageio\\', \\'imagesize\\', \\n \\'importlib-metadata\\', \\'importlib-resources\\', \\'incremental\\', \\'iniconfig\\', \\n \\'ipykernel\\', \\'ipympl\\', \\'ipynb\\', \\'ipython\\', \\'ipython-genutils\\', \\'ipywidgets\\', \\n \\'jaraco.classes\\', \\'jedi\\', \\'jeepney\\', \\'jinja2\\', \\'joblib\\', \\'json5\\', \\'jsonpatch\\', \\n \\'jsonpointer\\', \\'jsonschema\\', \\'jupyter\\', \\'jupyter-client\\', \\'jupyter-console\\',\\n \\'jupyter-contrib-core\\', \\'jupyter-contrib-nbextensions\\', \\'jupyter-core\\', \\n \\'jupyter-highlight-selected-word\\', \\'jupyter-latex-envs\\', \\'jupyter-nbextensions-configurator\\', \\n \\'jupyter-packaging\\', \\'jupyter-server\\', \\'jupyter-server-proxy\\', \\'jupyterlab\\', \\n \\'jupyterlab-pygments\\', \\'jupyterlab-server\\', \\'jupyterlab-spellchecker\\', \\'jupyterlab-vpython\\',\\n \\'jupyterlab-widgets\\', \\'keyring\\', \\'kiwisolver\\', \\'language-selector\\', \\'launchpadlib\\', \\n \\'lazr.restfulclient\\', \\'lazr.uri\\', \\'lxml\\', \\'macaroonbakery\\', \\'markupsafe\\', \\'matplotlib\\', \\n \\'matplotlib-inline\\', \\'mistune\\', \\'more-itertools\\', \\'mpmath\\', \\'multidict\\', \\'nbclassic\\',\\n \\'nbclient\\', \\'nbconvert\\', \\'nbformat\\', \\'nbsphinx\\', \\'nest-asyncio\\', \\'netifaces\\', \\'node\\', \\n \\'notebook\\', \\'notebook-shim\\', \\'npm\\', \\'numpoly\\', \\'numpy\\', \\'oauthlib\\', \\'odict\\', \\'opal\\', \\n \\'opencv-python-headless\\', \\'optional-django\\', \\'packaging\\', \\'pandas\\', \\'pandoc\\', \\'pandocfilters\\',\\n \\'parso\\', \\'pexpect\\', \\'pickleshare\\', \\'pillow\\', \\'pip\\', \\'pkgutil-resolve-name\\', \\'platformdirs\\',\\n \\'plotly\\', \\'pluggy\\', \\'plumber\\', \\'plumbum\\', \\'ply\\', \\'prometheus-client\\', \\'prompt-toolkit\\', \\n \\'protobuf\\', \\'psutil\\', \\'ptyprocess\\', \\'pure-eval\\', \\'pyasn1\\', \\'pyasn1-modules\\', \\'pycairo\\', \\n \\'pycparser\\', \\'pycups\\', \\'pyfiglet\\', \\'pygments\\', \\'pygobject\\', \\'pyhamcrest\\', \\'pyjwt\\', \\n \\'pymacaroons\\', \\'pynacl\\', \\'pyopenssl\\', \\'pyoptools\\', \\'pyparsing\\', \\'pyqt5\\', \\'pyqt5-qt5\\', \\n \\'pyqt5-sip\\', \\'pyrfc3339\\', \\'pyrsistent\\', \\'pyserial\\', \\'pyside6\\', \\'pyside6-addons\\',\\n \\'pyside6-essentials\\', \\'pytest\\', \\'pytest-mpi\\', \\'python-apt\\', \\'python-dateutil\\', \\'python-debian\\',\\n \\'pytz\\', \\'pyyaml\\', \\'pyzmq\\', \\'qtconsole\\', \\'qtpy\\', \\'requests\\', \\'requests-unixsocket\\', \\n \\'retrying\\', \\'scikit-learn\\', \\'scipy\\', \\'seaborn\\', \\'secretstorage\\', \\'send2trash\\', \\'service-identity\\',\\n \\'setuptools\\', \\'shape\\', \\'shapes\\', \\'shiboken6\\', \\'simpervisor\\', \\'simplejson\\', \\'sip\\', \\'six\\',\\n \\'sklearn\\', \\'sniffio\\', \\'snowballstemmer\\', \\'sos\\', \\'soupsieve\\', \\'sphinx\\', \\'sphinx-rtd-theme\\', \\n \\'sphinxcontrib-applehelp\\', \\'sphinxcontrib-devhelp\\', \\'sphinxcontrib-htmlhelp\\', \\n \\'sphinxcontrib-jsmath\\', \\'sphinxcontrib-qthelp\\', \\'sphinxcontrib-serializinghtml\\', \\'ssh-import-id\\',\\n \\'stack-data\\', \\'style\\', \\'sympy\\', \\'systemd-python\\', \\'tabulate\\', \\'tenacity\\', \\'terminado\\',\\n \\'threadpoolctl\\', \\'tinycss2\\', \\'toml\\', \\'tomli\\', \\'tomli-w\\', \\'tomlkit\\', \\'toolz\\', \\'tornado\\',\\n \\'tqdm\\', \\'traitlets\\', \\'twisted\\', \\'txaio\\', \\'typing-extensions\\', \\'ubuntu-advantage-tools\\', \\'ufw\\', \\n \\'unattended-upgrades\\', \\'unity\\', \\'unyt\\', \\'update\\', \\'urllib3\\', \\'virtualenv\\', \\'vpython\\',\\n \\'wadllib\\', \\'wcwidth\\', \\'webdavclient3\\', \\'webencodings\\', \\'websocket-client\\', \\'wheel\\',\\n \\'widgetsnbextension\\', \\'yarl\\', \\'yt\\', \\'zipp\\', \\'zope.component\\', \\'zope.deferredimport\\', \\n \\'zope.deprecation\\', \\'zope.event\\', \\'zope.hookable\\', \\'zope.interface\\', \\'zope.lifecycleevent\\',\\n \\'zope.proxy\\']\\n\\nfailedlist = \\'\\'\\nfailed = False\\nfor l in  list2install:\\n    try: \\n        call(\"pip install \" + \\' \\'+ l, shell=True)\\n    except: \\n        failed = True\\n        failedlist += str(l)\\n\\nif failed:\\n    print(\"Failed to install packages-->\", failedlist) \\n'"
      ]
     },
     "execution_count": 4,
     "metadata": {},
     "output_type": "execute_result"
    }
   ],
   "source": [
    "'''\n",
    "# Read all current packages \n",
    "import pkg_resources\n",
    "installed_packages = pkg_resources.working_set\n",
    "installed_packages_list = sorted([\"%s\" % (i.key) for i in installed_packages])\n",
    "\n",
    "packages= \" \" \n",
    "for l in  installed_packages_list:\n",
    "    packages+=l + \" \" \n",
    "print(\"pip install \", packages )\n",
    "\n",
    "print('\\n \\n')\n",
    "print(installed_packages_list)\n",
    "'''\n",
    "#not for use here but kep because its a decent way to get python packages equal \n",
    "'''\n",
    "#install all packages listed \n",
    "import pip\n",
    "from subprocess import call\n",
    "\n",
    "# to install \n",
    "list2install = ['aiohttp', 'aiosignal', 'alabaster', 'anyio', 'argon2-cffi', 'argon2-cffi-bindings', \n",
    " 'asttokens', 'async-timeout', 'attrs', 'autobahn', 'automat', 'babel', 'backcall', \n",
    " 'beautifulsoup4', 'bleach', 'blinker', 'certifi', 'cffi', 'chaospy', 'chardet', \n",
    " 'charset-normalizer', 'chart-studio', 'circular', 'click', 'cloud-init', 'cmyt', \n",
    " 'colorama', 'colorspacious', 'command-not-found', 'configobj', 'constantly',\n",
    " 'contourpy', 'cryptography', 'cupshelpers', 'cycler', 'cython', 'cytoolz',\n",
    " 'dbus-python', 'debugpy', 'decorator', 'defer', 'defusedxml', 'deprecation',\n",
    " 'distlib', 'distro', 'distro-info', 'docutils', 'entrypoints', 'ess-python-tools', \n",
    " 'exceptiongroup', 'executing', 'fastjsonschema', 'filelock', 'fonttools', \n",
    " 'frozenlist', 'h5py', 'httplib2', 'hyperlink', 'idna', 'imageio', 'imagesize', \n",
    " 'importlib-metadata', 'importlib-resources', 'incremental', 'iniconfig', \n",
    " 'ipykernel', 'ipympl', 'ipynb', 'ipython', 'ipython-genutils', 'ipywidgets', \n",
    " 'jaraco.classes', 'jedi', 'jeepney', 'jinja2', 'joblib', 'json5', 'jsonpatch', \n",
    " 'jsonpointer', 'jsonschema', 'jupyter', 'jupyter-client', 'jupyter-console',\n",
    " 'jupyter-contrib-core', 'jupyter-contrib-nbextensions', 'jupyter-core', \n",
    " 'jupyter-highlight-selected-word', 'jupyter-latex-envs', 'jupyter-nbextensions-configurator', \n",
    " 'jupyter-packaging', 'jupyter-server', 'jupyter-server-proxy', 'jupyterlab', \n",
    " 'jupyterlab-pygments', 'jupyterlab-server', 'jupyterlab-spellchecker', 'jupyterlab-vpython',\n",
    " 'jupyterlab-widgets', 'keyring', 'kiwisolver', 'language-selector', 'launchpadlib', \n",
    " 'lazr.restfulclient', 'lazr.uri', 'lxml', 'macaroonbakery', 'markupsafe', 'matplotlib', \n",
    " 'matplotlib-inline', 'mistune', 'more-itertools', 'mpmath', 'multidict', 'nbclassic',\n",
    " 'nbclient', 'nbconvert', 'nbformat', 'nbsphinx', 'nest-asyncio', 'netifaces', 'node', \n",
    " 'notebook', 'notebook-shim', 'npm', 'numpoly', 'numpy', 'oauthlib', 'odict', 'opal', \n",
    " 'opencv-python-headless', 'optional-django', 'packaging', 'pandas', 'pandoc', 'pandocfilters',\n",
    " 'parso', 'pexpect', 'pickleshare', 'pillow', 'pip', 'pkgutil-resolve-name', 'platformdirs',\n",
    " 'plotly', 'pluggy', 'plumber', 'plumbum', 'ply', 'prometheus-client', 'prompt-toolkit', \n",
    " 'protobuf', 'psutil', 'ptyprocess', 'pure-eval', 'pyasn1', 'pyasn1-modules', 'pycairo', \n",
    " 'pycparser', 'pycups', 'pyfiglet', 'pygments', 'pygobject', 'pyhamcrest', 'pyjwt', \n",
    " 'pymacaroons', 'pynacl', 'pyopenssl', 'pyoptools', 'pyparsing', 'pyqt5', 'pyqt5-qt5', \n",
    " 'pyqt5-sip', 'pyrfc3339', 'pyrsistent', 'pyserial', 'pyside6', 'pyside6-addons',\n",
    " 'pyside6-essentials', 'pytest', 'pytest-mpi', 'python-apt', 'python-dateutil', 'python-debian',\n",
    " 'pytz', 'pyyaml', 'pyzmq', 'qtconsole', 'qtpy', 'requests', 'requests-unixsocket', \n",
    " 'retrying', 'scikit-learn', 'scipy', 'seaborn', 'secretstorage', 'send2trash', 'service-identity',\n",
    " 'setuptools', 'shape', 'shapes', 'shiboken6', 'simpervisor', 'simplejson', 'sip', 'six',\n",
    " 'sklearn', 'sniffio', 'snowballstemmer', 'sos', 'soupsieve', 'sphinx', 'sphinx-rtd-theme', \n",
    " 'sphinxcontrib-applehelp', 'sphinxcontrib-devhelp', 'sphinxcontrib-htmlhelp', \n",
    " 'sphinxcontrib-jsmath', 'sphinxcontrib-qthelp', 'sphinxcontrib-serializinghtml', 'ssh-import-id',\n",
    " 'stack-data', 'style', 'sympy', 'systemd-python', 'tabulate', 'tenacity', 'terminado',\n",
    " 'threadpoolctl', 'tinycss2', 'toml', 'tomli', 'tomli-w', 'tomlkit', 'toolz', 'tornado',\n",
    " 'tqdm', 'traitlets', 'twisted', 'txaio', 'typing-extensions', 'ubuntu-advantage-tools', 'ufw', \n",
    " 'unattended-upgrades', 'unity', 'unyt', 'update', 'urllib3', 'virtualenv', 'vpython',\n",
    " 'wadllib', 'wcwidth', 'webdavclient3', 'webencodings', 'websocket-client', 'wheel',\n",
    " 'widgetsnbextension', 'yarl', 'yt', 'zipp', 'zope.component', 'zope.deferredimport', \n",
    " 'zope.deprecation', 'zope.event', 'zope.hookable', 'zope.interface', 'zope.lifecycleevent',\n",
    " 'zope.proxy']\n",
    "\n",
    "failedlist = ''\n",
    "failed = False\n",
    "for l in  list2install:\n",
    "    try: \n",
    "        call(\"pip install \" + ' '+ l, shell=True)\n",
    "    except: \n",
    "        failed = True\n",
    "        failedlist += str(l)\n",
    "\n",
    "if failed:\n",
    "    print(\"Failed to install packages-->\", failedlist) \n",
    "'''"
   ]
  },
  {
   "cell_type": "code",
   "execution_count": 4,
   "id": "27402bd3-6576-42e0-9e25-185b9818ff57",
   "metadata": {},
   "outputs": [
    {
     "data": {
      "application/javascript": [
       "if (typeof Jupyter !== \"undefined\") {require.undef(\"nbextensions/vpython_libraries/glow.min\");}else{element.textContent = ' ';}"
      ],
      "text/plain": [
       "<IPython.core.display.Javascript object>"
      ]
     },
     "metadata": {},
     "output_type": "display_data"
    },
    {
     "data": {
      "application/javascript": [
       "if (typeof Jupyter !== \"undefined\") {require.undef(\"nbextensions/vpython_libraries/glowcomm\");}else{element.textContent = ' ';}"
      ],
      "text/plain": [
       "<IPython.core.display.Javascript object>"
      ]
     },
     "metadata": {},
     "output_type": "display_data"
    },
    {
     "data": {
      "application/javascript": [
       "if (typeof Jupyter !== \"undefined\") {require.undef(\"nbextensions/vpython_libraries/jquery-ui.custom.min\");}else{element.textContent = ' ';}"
      ],
      "text/plain": [
       "<IPython.core.display.Javascript object>"
      ]
     },
     "metadata": {},
     "output_type": "display_data"
    },
    {
     "data": {
      "application/javascript": [
       "if (typeof Jupyter !== \"undefined\") {require([\"nbextensions/vpython_libraries/glow.min\"], function(){console.log(\"GLOW LOADED\");});}else{element.textContent = ' ';}"
      ],
      "text/plain": [
       "<IPython.core.display.Javascript object>"
      ]
     },
     "metadata": {},
     "output_type": "display_data"
    },
    {
     "data": {
      "application/javascript": [
       "if (typeof Jupyter !== \"undefined\") {require([\"nbextensions/vpython_libraries/glowcomm\"], function(){console.log(\"GLOWCOMM LOADED\");});}else{element.textContent = ' ';}"
      ],
      "text/plain": [
       "<IPython.core.display.Javascript object>"
      ]
     },
     "metadata": {},
     "output_type": "display_data"
    },
    {
     "data": {
      "application/javascript": [
       "if (typeof Jupyter !== \"undefined\") {require([\"nbextensions/vpython_libraries/jquery-ui.custom.min\"], function(){console.log(\"JQUERY LOADED\");});}else{element.textContent = ' ';}"
      ],
      "text/plain": [
       "<IPython.core.display.Javascript object>"
      ]
     },
     "metadata": {},
     "output_type": "display_data"
    },
    {
     "name": "stderr",
     "output_type": "stream",
     "text": [
      "\n",
      "KeyboardInterrupt\n",
      "\n"
     ]
    }
   ],
   "source": [
    "# test the lib \n",
    "import Graphics_Lib as GL\n",
    "\n",
    "QP1 = {'Zpos': 1 ,'name':'QP1', 'Len[m]':0.5, 'HalfApature': 0.2,'Volts': 1000}\n",
    "\n",
    "gl = GL.Beam_Graphix()\n",
    "gl.Draw_QP(QP=QP1)\n"
   ]
  },
  {
   "cell_type": "code",
   "execution_count": null,
   "id": "549912a1-45b8-4fff-8319-d9a5d697dfdb",
   "metadata": {},
   "outputs": [
    {
     "data": {
      "application/javascript": [
       "if (typeof Jupyter !== \"undefined\") {require.undef(\"nbextensions/vpython_libraries/glow.min\");}else{element.textContent = ' ';}"
      ],
      "text/plain": [
       "<IPython.core.display.Javascript object>"
      ]
     },
     "metadata": {},
     "output_type": "display_data"
    },
    {
     "data": {
      "application/javascript": [
       "if (typeof Jupyter !== \"undefined\") {require.undef(\"nbextensions/vpython_libraries/glowcomm\");}else{element.textContent = ' ';}"
      ],
      "text/plain": [
       "<IPython.core.display.Javascript object>"
      ]
     },
     "metadata": {},
     "output_type": "display_data"
    },
    {
     "data": {
      "application/javascript": [
       "if (typeof Jupyter !== \"undefined\") {require.undef(\"nbextensions/vpython_libraries/jquery-ui.custom.min\");}else{element.textContent = ' ';}"
      ],
      "text/plain": [
       "<IPython.core.display.Javascript object>"
      ]
     },
     "metadata": {},
     "output_type": "display_data"
    },
    {
     "data": {
      "application/javascript": [
       "if (typeof Jupyter !== \"undefined\") {require([\"nbextensions/vpython_libraries/glow.min\"], function(){console.log(\"GLOW LOADED\");});}else{element.textContent = ' ';}"
      ],
      "text/plain": [
       "<IPython.core.display.Javascript object>"
      ]
     },
     "metadata": {},
     "output_type": "display_data"
    },
    {
     "data": {
      "application/javascript": [
       "if (typeof Jupyter !== \"undefined\") {require([\"nbextensions/vpython_libraries/glowcomm\"], function(){console.log(\"GLOWCOMM LOADED\");});}else{element.textContent = ' ';}"
      ],
      "text/plain": [
       "<IPython.core.display.Javascript object>"
      ]
     },
     "metadata": {},
     "output_type": "display_data"
    },
    {
     "data": {
      "application/javascript": [
       "if (typeof Jupyter !== \"undefined\") {require([\"nbextensions/vpython_libraries/jquery-ui.custom.min\"], function(){console.log(\"JQUERY LOADED\");});}else{element.textContent = ' ';}"
      ],
      "text/plain": [
       "<IPython.core.display.Javascript object>"
      ]
     },
     "metadata": {},
     "output_type": "display_data"
    }
   ],
   "source": [
    "QP = {'Zpos': 1 ,'name':'QP1', 'Len[m]':0.5, 'HalfApature': 0.2,'Volts': 1000}\n",
    "poleRpos =QP['HalfApature']\n",
    "PoleR = 1.147* poleRpos\n",
    "poleLen =  QP['Len[m]']\n",
    "#generte shape\n",
    "Zloc = QP['Zpos']\n",
    "\n",
    "theta = (1/2)*pi + pi/4\n",
    "x = (PoleR+poleRpos)*np.cos(theta)\n",
    "y = (PoleR+poleRpos)*np.sin(theta)\n",
    "extrusion(path=[vec(0, 0, Zloc), vec(0, 0, Zloc+poleLen)],\n",
    "          color=color.blue,\n",
    "          shape=[shapes.circle(radius=PoleR, angle1=0, angle2=pi/2)])\n"
   ]
  },
  {
   "cell_type": "code",
   "execution_count": null,
   "id": "84e3a77f-71b0-4275-8d32-f16bae07fefc",
   "metadata": {},
   "outputs": [],
   "source": []
  }
 ],
 "metadata": {
  "kernelspec": {
   "display_name": "Python 3 (ipykernel)",
   "language": "python",
   "name": "python3"
  },
  "language_info": {
   "codemirror_mode": {
    "name": "ipython",
    "version": 3
   },
   "file_extension": ".py",
   "mimetype": "text/x-python",
   "name": "python",
   "nbconvert_exporter": "python",
   "pygments_lexer": "ipython3",
   "version": "3.8.10"
  }
 },
 "nbformat": 4,
 "nbformat_minor": 5
}
