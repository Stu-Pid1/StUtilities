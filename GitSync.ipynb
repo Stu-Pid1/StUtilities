{
 "cells": [
  {
   "cell_type": "markdown",
   "id": "dc75a264-a3c7-419c-addf-21cdee75c463",
   "metadata": {},
   "source": [
    "# Git Repo sync \n",
    "An automated tool to update the git scripts \n"
   ]
  },
  {
   "cell_type": "code",
   "execution_count": 5,
   "id": "b95f44c6-64c6-4950-a969-1047bde838c9",
   "metadata": {},
   "outputs": [
    {
     "name": "stdout",
     "output_type": "stream",
     "text": [
      "Windows OS\n"
     ]
    }
   ],
   "source": [
    "import subprocess\n",
    "import datetime\n",
    "import sys\n",
    "\n",
    "def run(cmd):\n",
    "    \"\"\"Run a shell command and return its output (or raise error).\"\"\"\n",
    "    result = subprocess.run(cmd, shell=True, text=True, capture_output=True)\n",
    "    if result.returncode != 0:\n",
    "        print(f\"Error running: {cmd}\\n{result.stderr}\")\n",
    "        sys.exit(1)\n",
    "    return result.stdout.strip()\n",
    "\n",
    "def sync_repo(repo_path=\".\"):\n",
    "    # Change directory into repo\n",
    "    import os\n",
    "    os.chdir(repo_path)\n",
    "\n",
    "    # 1. Fetch and pull latest changes\n",
    "    print(\"🔄 Pulling latest changes...\")\n",
    "    run(\"git fetch --all\")\n",
    "    run(\"git pull\")\n",
    "\n",
    "    # 2. Add new/changed files\n",
    "    print(\"➕ Adding changes...\")\n",
    "    run(\"git add .\")\n",
    "\n",
    "    # 3. Commit with timestamp (only if there are changes)\n",
    "    status = run(\"git status --porcelain\")\n",
    "    if status:\n",
    "        commit_msg = f\"Auto-update {datetime.datetime.now().isoformat()}\"\n",
    "        print(f\"💾 Committing: {commit_msg}\")\n",
    "        run(f'git commit -m \"{commit_msg}\"')\n",
    "\n",
    "        # 4. Push back to remote\n",
    "        print(\"🚀 Pushing changes...\")\n",
    "        run(\"git push\")\n",
    "    else:\n",
    "        print(\"✅ No local changes to commit.\")\n",
    "\n",
    "\n",
    "reload= True # force reload of the libs \n",
    "\n",
    "import os\n",
    "import sys\n",
    "Windows = False\n",
    "import numpy as np\n",
    "\n",
    "if sys.platform.startswith('linux'):\n",
    "    OneDir = os.environ.get('ONEDIR')    \n",
    "    print(\"Linux OS\")\n",
    "    \n",
    "elif sys.platform.startswith('win'):\n",
    "    print(\"Windows OS\")    \n",
    "    Win_OS = True\n",
    "    OneDir = \"c:/Users/stu_w/OneDrive/\"\n",
    "        "
   ]
  },
  {
   "cell_type": "code",
   "execution_count": 12,
   "id": "7b14601e-4c90-473d-aa80-ec2015d9219e",
   "metadata": {},
   "outputs": [
    {
     "name": "stdout",
     "output_type": "stream",
     "text": [
      " syncing repo -->  c:/Users/stu_w/OneDrive/codes/JupiterNotes/Utilities\n",
      "🔄 Pulling latest changes...\n",
      "Error running: git pull\n",
      "There is no tracking information for the current branch.\n",
      "Please specify which branch you want to merge with.\n",
      "See git-pull(1) for details.\n",
      "\n",
      "    git pull <remote> <branch>\n",
      "\n",
      "If you wish to set tracking information for this branch you can do so with:\n",
      "\n",
      "    git branch --set-upstream-to=origin/<branch> main\n",
      "\n",
      "\n"
     ]
    },
    {
     "ename": "SystemExit",
     "evalue": "1",
     "output_type": "error",
     "traceback": [
      "An exception has occurred, use %tb to see the full traceback.\n",
      "\u001b[31mSystemExit\u001b[39m\u001b[31m:\u001b[39m 1\n"
     ]
    },
    {
     "name": "stderr",
     "output_type": "stream",
     "text": [
      "C:\\Program Files\\Python313\\Lib\\site-packages\\IPython\\core\\interactiveshell.py:3680: UserWarning: To exit: use 'exit', 'quit', or Ctrl-D.\n",
      "  warn(\"To exit: use 'exit', 'quit', or Ctrl-D.\", stacklevel=1)\n"
     ]
    }
   ],
   "source": [
    "#repos to sync\n",
    "path = OneDir+\"codes/\"\n",
    "repo= [\n",
    "    path+\"JupiterNotes/Utilities\"\n",
    "  # , path+\"JupiterNotes/Opal\"\n",
    "  # , path+\"JupiterNotes/Tattoo\"\n",
    "]\n",
    "\n",
    "for r in repo: \n",
    "    print(\" syncing repo --> \", r) \n",
    "    try: \n",
    "        sync_repo(repo_path=r)\n",
    "        print(\"sync complete\")\n",
    "    except Exception as e: \n",
    "        print(\"---Error---:\\n\", e) \n",
    "    \n",
    "    "
   ]
  },
  {
   "cell_type": "code",
   "execution_count": null,
   "id": "3fdf3e46-a02d-4d39-8c74-65e3d0186d4d",
   "metadata": {},
   "outputs": [],
   "source": []
  }
 ],
 "metadata": {
  "kernelspec": {
   "display_name": "Python 3 (ipykernel)",
   "language": "python",
   "name": "python3"
  },
  "language_info": {
   "codemirror_mode": {
    "name": "ipython",
    "version": 3
   },
   "file_extension": ".py",
   "mimetype": "text/x-python",
   "name": "python",
   "nbconvert_exporter": "python",
   "pygments_lexer": "ipython3",
   "version": "3.13.3"
  }
 },
 "nbformat": 4,
 "nbformat_minor": 5
}
