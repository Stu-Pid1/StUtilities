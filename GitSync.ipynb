{
 "cells": [
  {
   "cell_type": "markdown",
   "id": "dc75a264-a3c7-419c-addf-21cdee75c463",
   "metadata": {},
   "source": [
    "# Git Repo sync \n",
    "An automated tool to update the git scripts \n"
   ]
  },
  {
   "cell_type": "code",
   "execution_count": 23,
   "id": "b95f44c6-64c6-4950-a969-1047bde838c9",
   "metadata": {},
   "outputs": [
    {
     "name": "stdout",
     "output_type": "stream",
     "text": [
      "Windows OS\n"
     ]
    }
   ],
   "source": [
    "import subprocess\n",
    "import datetime\n",
    "import sys\n",
    "\n",
    "def run(cmd, allow_fail=False):\n",
    "    \"\"\"Run a shell command and return its output (or raise error).\"\"\"\n",
    "    result = subprocess.run(cmd, shell=True, text=True, capture_output=True)\n",
    "    if result.returncode != 0 and not allow_fail:\n",
    "        print(f\"Error running: {cmd}\\n{result.stderr}\")\n",
    "        sys.exit(1)\n",
    "    return result.stdout.strip()\n",
    "\n",
    "def sync_repo(repo_path=\".\"):\n",
    "    os.chdir(repo_path)\n",
    "\n",
    "    # find current branch\n",
    "    branch = run(\"git rev-parse --abbrev-ref HEAD\")\n",
    "    print(f\"📂 Working on branch: {branch}\")\n",
    "\n",
    "    # check if branch has upstream\n",
    "    upstream = run(f\"git rev-parse --abbrev-ref {branch}@{{upstream}}\", allow_fail=True)\n",
    "    if not upstream:\n",
    "        print(f\"⚠️  No upstream for branch {branch}, setting to origin/{branch}\")\n",
    "        run(f\"git branch --set-upstream-to=origin/{branch} {branch}\", allow_fail=True)\n",
    "\n",
    "    # pull\n",
    "    print(\"🔄 Pulling latest changes...\")\n",
    "    run(\"git pull\")\n",
    "\n",
    "    # add changes\n",
    "    print(\"➕ Adding changes...\")\n",
    "    run(\"git add .\")\n",
    "\n",
    "    # commit if needed\n",
    "    status = run(\"git status --porcelain\")\n",
    "    if status:\n",
    "        commit_msg = f\"Auto-update {datetime.datetime.now().isoformat()}\"\n",
    "        print(f\"💾 Committing: {commit_msg}\")\n",
    "        run(f'git commit -m \"{commit_msg}\"')\n",
    "\n",
    "        print(\"🚀 Pushing changes...\")\n",
    "        run(\"git push\")\n",
    "    else:\n",
    "        print(\"✅ No local changes to commit.\")\n",
    "\n",
    "\n",
    "import os\n",
    "import sys\n",
    "Windows = False\n",
    "import numpy as np\n",
    "\n",
    "if sys.platform.startswith('linux'):\n",
    "    OneDir = os.environ.get('ONEDIR')    \n",
    "    print(\"Linux OS\")\n",
    "    \n",
    "elif sys.platform.startswith('win'):\n",
    "    print(\"Windows OS\")    \n",
    "    Win_OS = True\n",
    "    OneDir = \"c:/Users/stu_w/OneDrive/\"\n",
    "        "
   ]
  },
  {
   "cell_type": "code",
   "execution_count": 24,
   "id": "7b14601e-4c90-473d-aa80-ec2015d9219e",
   "metadata": {},
   "outputs": [
    {
     "name": "stdout",
     "output_type": "stream",
     "text": [
      " syncing repo -->  c:/Users/stu_w/OneDrive/codes/JupiterNotes/Utilities\n",
      "📂 Working on branch: main\n",
      "⚠️  No upstream for branch main, setting to origin/main\n",
      "🔄 Pulling latest changes...\n",
      "➕ Adding changes...\n",
      "💾 Committing: Auto-update 2025-08-20T08:41:46.224097\n",
      "🚀 Pushing changes...\n",
      "sync complete\n"
     ]
    }
   ],
   "source": [
    "#repos to sync\n",
    "path = OneDir+\"codes/\"\n",
    "repo= [\n",
    "    path+\"JupiterNotes/Utilities\"\n",
    "  # , path+\"JupiterNotes/Opal\"\n",
    "  # , path+\"JupiterNotes/Tattoo\"\n",
    "]\n",
    "\n",
    "for r in repo: \n",
    "    print(\" syncing repo --> \", r) \n",
    "    try: \n",
    "        sync_repo(repo_path=r)\n",
    "        print(\"sync complete\")\n",
    "    except Exception as e: \n",
    "        print(\"---Error---:\\n\", e) \n",
    "    \n",
    "    "
   ]
  },
  {
   "cell_type": "code",
   "execution_count": null,
   "id": "3fdf3e46-a02d-4d39-8c74-65e3d0186d4d",
   "metadata": {},
   "outputs": [],
   "source": []
  }
 ],
 "metadata": {
  "kernelspec": {
   "display_name": "Python 3 (ipykernel)",
   "language": "python",
   "name": "python3"
  },
  "language_info": {
   "codemirror_mode": {
    "name": "ipython",
    "version": 3
   },
   "file_extension": ".py",
   "mimetype": "text/x-python",
   "name": "python",
   "nbconvert_exporter": "python",
   "pygments_lexer": "ipython3",
   "version": "3.13.3"
  }
 },
 "nbformat": 4,
 "nbformat_minor": 5
}
