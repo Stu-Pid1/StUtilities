{
 "cells": [
  {
   "cell_type": "markdown",
   "id": "b05328dd-0562-4267-bed3-38570f20bddd",
   "metadata": {},
   "source": [
    "# Closed orbit calulator\n",
    "based on the paper Nuclear Instruments and Methods in Physics Research A 647 https://doi.org/10.1016/j.nima.2011.05.052 Christian B \"Cyclotron closed orbits on a radial grid\""
   ]
  },
  {
   "cell_type": "code",
   "execution_count": 1,
   "id": "5642e7f9-ee9a-4fad-8dc8-610805ef0487",
   "metadata": {},
   "outputs": [],
   "source": [
    "#define working Dir \n",
    "TowerPC = True\n",
    "Laptop = False\n",
    "if(TowerPC):\n",
    "    Dir          = \"/mnt/c/Users/stu_w/OneDrive/codes/Opal/External_Input_Maps\"\n",
    "    OpalFunPath  = \"/mnt/c/Users/stu_w/OneDrive/codes/Opal/JupiterNotes/Opal/My_Opal_functions.ipynb\"\n",
    "    GenToolsPath = \"/mnt/c/Users/stu_w/OneDrive/codes/Opal/JupiterNotes/Utilities/GeneralTools.ipynb\"\n",
    "    \n",
    "elif(Laptop):\n",
    "    Dir          = \"/mnt/c/Users/stu_w/OneDrive/codes/Opal/OPALFruit/tunes/External_Input_Maps\"\n",
    "    OpalFunPath  = \"/mnt/c/Users/stu_w/OneDrive/codes/Opal/JupiterNotes/Opal/My_Opal_functions.ipynb\"\n",
    "    GenToolsPath = \"/mnt/c/Users/stu_w/OneDrive/codes/Opal/JupiterNotes/Utilities/GeneralTools.ipynb\"\n",
    "    \n",
    "else:\n",
    "    Dir =  \"/home/stu/OPALFruit/tunes/External_Input_Maps\"\n",
    "    OpalFunPath = '/home/stu/Software/JupiterNotes/Opal/My_Opal_functions.ipynb'\n",
    "    GenToolsPath = '/home/stu/Software/JupiterNotes/Utilities/GeneralTools.ipynb'\n",
    "   \n",
    "%run {OpalFunPath}\n",
    "%run {GenToolsPath}"
   ]
  },
  {
   "cell_type": "markdown",
   "id": "b00ae51a-280b-4909-95c5-7b087581b068",
   "metadata": {},
   "source": [
    "## Units and simple functions "
   ]
  },
  {
   "cell_type": "code",
   "execution_count": 2,
   "id": "2ae8d3ba-73b5-493c-91e3-c78b5595f1b6",
   "metadata": {},
   "outputs": [
    {
     "name": "stdout",
     "output_type": "stream",
     "text": [
      "proton mass :  938.27208816   MeV\n",
      "c :  299792458000.0 mm/s\n",
      "reltivistic c: 1\n"
     ]
    }
   ],
   "source": [
    "import numpy as np\n",
    "import scipy.constants as const \n",
    "\n",
    "\n",
    "# define  units to use\n",
    "DefEunit = 'MeV'\n",
    "DefLunit = 'mm'\n",
    "DefBunit = 'kGauss'\n",
    "\n",
    "EUnit = {'TeV':1e12 ,'GeV': 1e9,'MeV':1e6 ,'KeV':1e3 ,'eV': 1 ,'meV':1e-3 ,'ueV':1e-6 } \n",
    "LUnit = {'km':1e3 ,'m': 1 ,'mm':1e-3 ,'um':1e-6 } \n",
    "BUnit = {'kGauss':1e3 ,'Gauss': 1 ,'T':1e4 , 'mT':1e1 } \n",
    "\n",
    "#define proton mass \n",
    "MassProt = const.physical_constants[\"proton mass energy equivalent in MeV\"]\n",
    "#print(MassProt)\n",
    "MassProt = MassProt[0]* EUnit['MeV']/EUnit[DefEunit]\n",
    "c_si = const.c* (LUnit['m']/LUnit[DefLunit])\n",
    "c = 1\n",
    "print(\"proton mass : \", MassProt, \" \",DefEunit)\n",
    "print(\"c : \", c_si , DefLunit+\"/s\")\n",
    "print(\"reltivistic c:\",c)\n",
    "# get cyclotron radious unit a \n",
    "def get_a(w0 = 2, c = 1 ):\n",
    "    return  c/w0   \n",
    "def get_b(w0 = 2, mass = 0.9382, q = 1 ):\n",
    "    return (w0*mass)/q\n",
    "# gamma \n",
    "def GetGamma(En = 0.002, mass = 0.9382):\n",
    "    return (En+mass)/mass\n",
    "# beta \n",
    "def GetBeta(En =0.002, mass = 0.9382):\n",
    "    return  np.sqrt( 1.0 - 1.0 /np.power(GetGamma(En,mass),2))\n",
    "# beta gamma \n",
    "def BetaGamma(En =0.002, mass = 0.9382):\n",
    "    return GetBeta(En=En, mass=mass)*GetGamma(En=En, mass=mass)\n",
    "# get angular velocity \n",
    "def GetW(freq = 5e6):\n",
    "    return 2*np.pi* freq\n",
    "\n",
    "def GetMom(En= 0.02, a = 299.8/5.063, mass = 0.938 ):\n",
    "    return BetaGamma(En = En, mass=mass)*a\n",
    "def GetTotMom(En= 0.002, mass = MassProt, a=1e3, c=c):\n",
    "    A =(En/(mass*c*c))\n",
    "    \n",
    "    return a*np.sqrt(A*(2+A))\n",
    "\n",
    "def RefField(mass = const.proton_mass, Q = const.elementary_charge, w0 = 2):\n",
    "    return (mass/Q)*w0"
   ]
  },
  {
   "cell_type": "code",
   "execution_count": 3,
   "id": "c3ca4769-a420-419f-861d-58be377b065f",
   "metadata": {},
   "outputs": [
    {
     "name": "stdout",
     "output_type": "stream",
     "text": [
      "gamma: \t 1.0000021315778496\n",
      "beta: \t 0.002064737772299772\n",
      "betagamma:  0.0020647421734490724\n",
      "W0: \t 31811767.210250244\n",
      "a: \t 9423.948566535537 [mm.Sec/rad]\n",
      "b: \t 29848093248.42131\n",
      "momentum:  405.5728685391219 [MeV.mm/a']\n",
      "momentum:  405.5728685391001 [MeV.mm/a']\n",
      "ref Feild:  0.33210482625966964\n"
     ]
    }
   ],
   "source": [
    "En = 0.8685 #MeV \n",
    "freq = 5.0630e6  # cyclron freq in si \n",
    "CycloHarm = 10\n",
    "RF = freq*CycloHarm \n",
    "\n",
    "\n",
    "print(\"gamma: \\t\",   GetGamma(En = 0.002, mass = MassProt))\n",
    "print(\"beta: \\t\",    GetBeta(En = 0.002, mass = MassProt))\n",
    "print(\"betagamma: \", BetaGamma(En = 0.002, mass = MassProt) )\n",
    "print(\"W0: \\t\",      GetW(freq=freq))\n",
    "print(\"a: \\t\",       get_a(w0 = GetW(freq=freq) , c =c_si), \"[\"+DefLunit+\".Sec/rad]\")\n",
    "print(\"b: \\t\",       get_b(w0 = GetW(freq=freq) , mass = MassProt))\n",
    "print(\"momentum: \",  GetMom(En= En, a = get_a(w0 = GetW(freq=freq) , c =c_si), mass = MassProt ),\n",
    "      \"[\" + DefEunit+ \".\"+DefLunit+\"/a']\" )\n",
    "print(\"momentum: \",  GetTotMom(En= En, c = c, a  = get_a(w0 = GetW(freq=freq) , c =c_si),  mass = MassProt ),\n",
    "      \"[\" + DefEunit+ \".\"+DefLunit+\"/a']\" )\n",
    "print(\"ref Feild: \", RefField(w0 = GetW(freq=freq)))"
   ]
  },
  {
   "cell_type": "markdown",
   "id": "30a779c6-f2a0-42b0-8d09-fd639641d68d",
   "metadata": {},
   "source": [
    "# load field map for transport to occur "
   ]
  },
  {
   "cell_type": "code",
   "execution_count": 5,
   "id": "7dd02eb7-4316-49ed-9e55-8e226d460289",
   "metadata": {},
   "outputs": [],
   "source": [
    "FileName =\"inj55a_bfld.dat\"\n",
    "#FileName = \"inj72_sector.opal\"\n",
    "#FileName = \"ring590_bfld.dat\"\n",
    "#FileName = \"ZYKL9Z.dat\""
   ]
  },
  {
   "cell_type": "code",
   "execution_count": 6,
   "id": "7729b1e9-eb2d-4519-9d5a-1ae98564b188",
   "metadata": {},
   "outputs": [
    {
     "name": "stdout",
     "output_type": "stream",
     "text": [
      "File Leaded\n",
      "R0:  500.0  mm \n",
      "dR:  10.0  mm\n",
      "Th0:  0.0 deg \n",
      "dTh:  -0.25 deg\n",
      "arcLen:  1440 \n",
      "n_arcs:  294\n",
      "<B> =  3.0421161496598637 kGauss\n",
      "B_max =  11.29141 kGauss\n",
      "B_min =  0.0 kGauss\n",
      "map has symmetry of 1 Start angle 0.0 end angle -360.0\n"
     ]
    }
   ],
   "source": [
    "import os\n",
    "import matplotlib.pyplot as plt \n",
    "import numpy as np \n",
    "import math\n",
    "\n",
    "#if its only a partial field map expand it to a full 360 \n",
    "ExpandToFull =True\n",
    "\n",
    "#load map \n",
    "data_headder = np.genfromtxt(os.path.join(Dir, FileName), max_rows= 6 )\n",
    "data = np.genfromtxt(os.path.join(Dir, FileName), skip_header= 6 )\n",
    "#print(data_headder)\n",
    "#print(data)\n",
    "if(len(data)>0 and len(data_headder)>0):\n",
    "    print(\"File Leaded\")\n",
    "    R0 = data_headder[0]\n",
    "    dR = data_headder[1]\n",
    "    Th0= data_headder[2]\n",
    "    dTh= data_headder[3]\n",
    "    arcLen = int(data_headder[4])\n",
    "    n_arcs = int(data_headder[5])\n",
    "    if(dTh<0):\n",
    "        symmetry = np.abs(dTh)\n",
    "        dTh=1/dTh\n",
    "    print(\"R0: \", R0, \" mm \\ndR: \",dR, \" mm\\nTh0: \",Th0 ,  \"deg \\ndTh: \",dTh , \"deg\\narcLen: \",arcLen , \"\\nn_arcs: \", n_arcs)\n",
    "    \n",
    "    data = np.reshape(data,(1, -1))\n",
    "    data = np.transpose(data)\n",
    "    #convert field to correct units \n",
    "    data = data*(BUnit['kGauss']/BUnit[DefBunit])\n",
    "    \n",
    "    #is the map symetric ?\n",
    "    if(np.mod(int(dTh*arcLen),360) == 0):\n",
    "        mapsym = 1\n",
    "        ExpandToFull = False\n",
    "    else:\n",
    "        mapsym = np.abs(int(np.floor(360.0/(dTh*arcLen))))\n",
    "    \n",
    "    \n",
    "    #\n",
    "    if(ExpandToFull):\n",
    "        fulldata = np.zeros([mapsym*len(data)])\n",
    "        for i in range(mapsym):\n",
    "            for j, d in enumerate(data): \n",
    "                fulldata[(i*len(data))+j] = d\n",
    "        \n",
    "        arcLen*=mapsym\n",
    "    else:\n",
    "        fulldata = data\n",
    "    print(\"<B> = \", np.mean(fulldata),DefBunit)\n",
    "    print(\"B_max = \", np.amax(fulldata),DefBunit)\n",
    "    print(\"B_min = \", np.amin(fulldata),DefBunit)\n",
    "    print(\"map has symmetry of\",mapsym,\"Start angle\",Th0 , \"end angle\", dTh*arcLen )     \n",
    "            \n",
    "            "
   ]
  },
  {
   "cell_type": "code",
   "execution_count": 17,
   "id": "2cea06e2-00f5-4ab6-b09d-67f1b75e98ee",
   "metadata": {},
   "outputs": [
    {
     "name": "stdout",
     "output_type": "stream",
     "text": [
      "flutter:  1.946878639254713\n"
     ]
    }
   ],
   "source": [
    "%run {OpalFunPath}\n",
    "# some additonals \n",
    "print(\"flutter: \", GetFlutter(dt = fulldata, arclen = arcLen, r = 20, dr = dR))"
   ]
  },
  {
   "cell_type": "markdown",
   "id": "795824b2-e132-42f4-b6ce-0d467e13ebd0",
   "metadata": {},
   "source": [
    "# Runge-kutta integrator \n",
    "The integrator needed to approximate the particle field influence over a discrete step."
   ]
  },
  {
   "cell_type": "code",
   "execution_count": 18,
   "id": "f9402c7b-9d79-41a7-b99f-94e013bb5cb2",
   "metadata": {},
   "outputs": [],
   "source": [
    "def ode_system(_t, _y):\n",
    "    \"\"\"\n",
    "    system of first order differential equations\n",
    "    _t: discrete time step value\n",
    "    _y: state vector [y1, y2]\n",
    "    \"\"\"\n",
    "    return np.array([_y[1], -_t * _y[1] + (2 / _t) * _y[0]])\n",
    "\n",
    "\n",
    "def rk4(func, tk, _yk, _dt=0.01, **kwargs):\n",
    "    \"\"\"\n",
    "    single-step fourth-order numerical integration (RK4) method\n",
    "    func: system of first order ODEs\n",
    "    tk: current time step\n",
    "    _yk: current state vector [y1, y2, y3, ...]\n",
    "    _dt: discrete time step size\n",
    "    **kwargs: additional parameters for ODE system\n",
    "    returns: y evaluated at time k+1\n",
    "    \"\"\"\n",
    "\n",
    "    # evaluate derivative at several stages within time interval\n",
    "    f1 = func(tk, _yk, **kwargs)\n",
    "    f2 = func(tk + _dt / 2, _yk + (f1 * (_dt / 2)), **kwargs)\n",
    "    f3 = func(tk + _dt / 2, _yk + (f2 * (_dt / 2)), **kwargs)\n",
    "    f4 = func(tk + _dt, _yk + (f3 * _dt), **kwargs)\n",
    "\n",
    "    # return an average of the derivative over tk, tk + dt\n",
    "    return _yk + (_dt / 6) * (f1 + (2 * f2) + (2 * f3) + f4)\n"
   ]
  },
  {
   "cell_type": "markdown",
   "id": "f45e3879-7b76-4578-bc20-f750f7fcce70",
   "metadata": {},
   "source": [
    "# track proton through the field\n"
   ]
  },
  {
   "cell_type": "code",
   "execution_count": 40,
   "id": "388aa4ae-9b56-49e5-8441-db1721043879",
   "metadata": {},
   "outputs": [],
   "source": [
    "# dr/dth \n",
    "def dr_dth(r=1,Pr =1,Pth= 1):\n",
    "    try:\n",
    "        return r*(Pr/Pth)\n",
    "    except:\n",
    "        return 0\n",
    "    \n",
    "def GetPth(Pr=0, P=0):\n",
    "    try:\n",
    "        return np.sqrt(P*P - Pr*Pr)\n",
    "    except:\n",
    "        print(\"error in Pth\")\n",
    "        return 0\n",
    "        # dPr/dTh = Pth \n",
    "\n",
    "def dPr_dTh(Qp =0, r=0, Bz =0, Pr=0, P=0):\n",
    "    if (r == 0):\n",
    "        return GetPth(Pr=Pr, P=P)\n",
    "    else:\n",
    "        try:\n",
    "            return Qp*r*Bz\n",
    "        except: \n",
    "            return 1\n",
    "\n",
    "        \n",
    "def dx_dTh(Pr = 1, Pth = 1, x = 1, r = 1):\n",
    "    return 1 \n",
    "\n",
    "\n",
    "# p = pr, pth , pz ; loc = r, th , z \n",
    "def TakeStep(P=[1,1,1], loc=[1,1,1], dTh =1, qPrime = 1, B = 0):\n",
    "    RKmeth = False\n",
    "    if(not RKmeth):\n",
    "        dr = dr_dth(r=loc[0],Pr=P[0],Pth=P[1])*dTh\n",
    "        dTh = dTh\n",
    "        dz = 0\n",
    "        dPr = qPrime* loc[0]*B*dTh\n",
    "        p = np.sqrt(P[0]**2 + P[1]**2 +P[2]**2 )\n",
    "        dPth = P[1] - (np.sqrt( p**2 - np.power(P[2]+dPr ,2 )))\n",
    "        dPz = 0\n",
    "\n",
    "        \n",
    "    return [dr,dTh,dz], [dPr,dPth,dPz]\n",
    "    "
   ]
  },
  {
   "cell_type": "code",
   "execution_count": 43,
   "id": "70d53b33-5940-4aab-8c89-8a62a23f37e7",
   "metadata": {},
   "outputs": [
    {
     "name": "stdout",
     "output_type": "stream",
     "text": [
      "r0: 340 \tTh0: 0.0 \tZ0: 0\n",
      "Ptot: 0.8680000000000001 \tPth0: 0.8679170467273932 \tPr0: 0.012 \tpZ: 0\n"
     ]
    }
   ],
   "source": [
    "# use the dtheta as the step size would be fine but we need to consider time!\n",
    "# for now dTh\n",
    "\n",
    "nSteps = np.abs(360.0 /dTh)\n",
    "En =  0.868 #  MeV kinetic energy \n",
    "\n",
    "Pr0 = 0.012\n",
    "Pz = 0\n",
    "P = (GetGamma(En = En, mass = MassProt) -1)*MassProt*c\n",
    "Pth = GetPth(Pr=Pr0, P=P) \n",
    "\n",
    "r0  = 340 \n",
    "th0 = 0 \n",
    "z0 = 0 \n",
    "\n",
    "StartPos  = [r0, th0,z0]\n",
    "StartMom  = [Pr0,Pth,Pz]\n",
    "\n",
    "print(\"r0:\", r0, \"\\tTh0:\",Th0, \"\\tZ0:\",z0)\n",
    "print(\"Ptot:\", P, \"\\tPth0:\",Pth, \"\\tPr0:\",Pr0,\"\\tpZ:\",Pz)\n",
    "\n",
    "for i in range(2):\n",
    "    #TAKE some steps \n",
    "    [dx, p] = TakeStep(P=StartMom, loc=StartPos, dTh = Th0, qPrime = 1, B = 0)\n",
    "    #implement change \n",
    "    \n",
    "    "
   ]
  },
  {
   "cell_type": "code",
   "execution_count": null,
   "id": "a9f47042-cb40-440a-ae06-ad399f96c0fd",
   "metadata": {},
   "outputs": [],
   "source": []
  }
 ],
 "metadata": {
  "kernelspec": {
   "display_name": "Python 3 (ipykernel)",
   "language": "python",
   "name": "python3"
  },
  "language_info": {
   "codemirror_mode": {
    "name": "ipython",
    "version": 3
   },
   "file_extension": ".py",
   "mimetype": "text/x-python",
   "name": "python",
   "nbconvert_exporter": "python",
   "pygments_lexer": "ipython3",
   "version": "3.8.10"
  }
 },
 "nbformat": 4,
 "nbformat_minor": 5
}
