{
 "cells": [
  {
   "cell_type": "markdown",
   "id": "38723e9c-99eb-4f6e-ba62-d1d58c17f850",
   "metadata": {},
   "source": [
    "# Effect of solenoid on beam "
   ]
  },
  {
   "cell_type": "markdown",
   "id": "58c89b88-2650-4bf1-8484-060c1b9dbd69",
   "metadata": {},
   "source": [
    "Information was requested on how much the beam will be influenced by the presence of the electromagnetic pump on the colent in the target.\n",
    "<br> \n",
    "For this we need to consider the rigidity of the beam  \n",
    "$$\n",
    "[B\\rho] = \\frac{p}{q} = \\frac{\\gamma mc \\beta }{q}= \\frac{mc}{q} \\sqrt{(\\frac{E}{mc^2})^2+2(\\frac{E}{mc^2}) }\n",
    "$$\n",
    "<br>\n"
   ]
  },
  {
   "cell_type": "code",
   "execution_count": 1,
   "id": "4031cce4-46fb-41dc-bdcc-b497e6d38ea4",
   "metadata": {},
   "outputs": [
    {
     "name": "stdout",
     "output_type": "stream",
     "text": [
      "Beam rigidity is 8.48  [T/m]\n"
     ]
    }
   ],
   "source": [
    "import numpy as np\n",
    "BeamE = 800 # 800 Mev/c beam energy  \n",
    "E= BeamE + 931# total energy \n",
    "C = 1       # speed of light =1 \n",
    "M = 1       # Mass of protion \n",
    "q = +1      # charge of particle \n",
    "Bp = 3.3357*(M*C/q)*np.sqrt(((E*1e-3)/(M*C*C))**2 +2*((E*1e-3)/(M*C*C)))\n",
    "print(\"Beam rigidity is %.2f \" % Bp + \" [T/m]\")"
   ]
  },
  {
   "cell_type": "markdown",
   "id": "cefcfa15-1a49-44a2-a293-3c70186d396e",
   "metadata": {},
   "source": [
    "The equations of motion for the beam behavour in the solenoid is quite long and can be found here <br>\n",
    "(https://people.nscl.msu.edu/~lund/msu/phy905_2018/lec_lund/03.lec.solenoids.pdf)\n",
    "<br>but the outcome is: \n",
    "$$\n",
    "\\begin{bmatrix}\n",
    " 1&0  &0  &0 \\\\ \n",
    " 0&1  & -k_l &0 \\\\ \n",
    " 0&0  & 1 &0 \\\\ \n",
    "k_l & 0 & 0 & 1\n",
    "\\end{bmatrix}\n",
    "\\begin{bmatrix}\n",
    "1 &  \\frac{1}{2K_l}sin(2k_l\\hat{l})& 0 & \\frac{1}{2K_l}sin^2(2k_l\\hat{l}) \\\\ \n",
    "0 & cos(2k_l\\hat{l}) & 0 &sin(2k_l\\hat{l}) \\\\ \n",
    "0 &  \\frac{1}{K_l}sin^2(2k_l\\hat{l}) & 1 & \\frac{1}{2K_l}sin(2k_l\\hat{l})\\\\ \n",
    "1 & -sin(2k_l\\hat{l}) & 0 & cos(2k_l\\hat{l})\n",
    "\\end{bmatrix}\n",
    "\\begin{bmatrix}\n",
    "1 & 0 & 0 &0 \\\\ \n",
    "0 & 1 & k_l &0 \\\\ \n",
    "0 & 0 &  1&0 \\\\ \n",
    "-k_l &0  & 0 & 1\n",
    "\\end{bmatrix}\n",
    "=M_s; \n",
    "$$\n",
    "where $K_l= \\frac{\\hat{B_0}}{2B\\rho}$\n",
    "<br>\n",
    "This gives the transport matirx for a 'hard edged' solenoid of length $L$ and feild $B=(B_x,B_y,B_z)$\n",
    "<br>\n",
    "$$ \n",
    "M_{sol}=  \n",
    "\\begin{bmatrix}\n",
    "cos^2(\\Phi)              & \\frac{1}{2K_l}sin(2\\Phi) & \\frac{1}{2}sin(2\\Phi)    & \\frac{1}{K_l}sin^2(\\Phi) \\\\ \n",
    "\\frac{-k_L}{2}sin(2\\Phi) & cos^2(\\Phi)              & -k_lsin^2\\Phi            & \\frac{1}{2}sin(2\\Phi) \\\\ \n",
    "\\frac{-1}{2}sin(2\\Phi)   & \\frac{-1}{K_l}sin^2      & cos^2\\Phi  1             & \\frac{1}{2K_l}sin(2\\Phi) \\\\ \n",
    "k_l sin^2\\Phi            & \\frac{-1}{2}sin(2\\Phi)   & \\frac{-k_l}{2}sin(2\\phi) & cos^2\\Phi\n",
    "\\end{bmatrix}\n",
    "$$\n",
    "<br>\n",
    "solenoids are a little more tricky than quadrapoles to compute. "
   ]
  },
  {
   "cell_type": "markdown",
   "id": "32952e81-0b83-4023-8b14-53c389411dfd",
   "metadata": {},
   "source": [
    "Make the simple inclusion of a very basic beam \n",
    "$$ X_{beam} = \n",
    "\\begin{bmatrix}\n",
    " X \\\\ \n",
    " X' \\\\ \n",
    " Y \\\\ \n",
    " Y'\n",
    " \\end{bmatrix}\n",
    " = \n",
    " \\begin{bmatrix}\n",
    " X \\\\ \n",
    " \\frac{P_x}{P} \\\\ \n",
    " Y \\\\ \n",
    "  \\frac{P_y}{P}\n",
    " \\end{bmatrix}\n",
    " $$"
   ]
  },
  {
   "cell_type": "code",
   "execution_count": 2,
   "id": "fe0f13f6-d6c0-41ea-bb73-a672e1caaa54",
   "metadata": {},
   "outputs": [
    {
     "name": "stdout",
     "output_type": "stream",
     "text": [
      "initial beam\n",
      "[0.016 0.    0.016 0.   ]\n"
     ]
    }
   ],
   "source": [
    "#for the beam \n",
    "x  = 0.016\n",
    "xp = 0.000\n",
    "y  = x\n",
    "yp = xp\n",
    "X = [x,xp,y,yp]\n",
    "print(\"initial beam\")\n",
    "print(np.transpose(X))"
   ]
  },
  {
   "cell_type": "code",
   "execution_count": 3,
   "id": "0d12947c-b526-419d-bd64-3a9599bce110",
   "metadata": {},
   "outputs": [
    {
     "name": "stdout",
     "output_type": "stream",
     "text": [
      "Expected B-field in Z 4.186667 [mT]\n"
     ]
    }
   ],
   "source": [
    "#estimation of the b field in the coild at peak amplitude \n",
    "I = 100       # Amps \n",
    "n = 40       # n turns\n",
    "l  = 1.2     # solnoid length in m was 1.2 \n",
    "mu= 1.256e-6 # N/A^2  = 1/e0c^2 \n",
    "Bz0 =  mu*((1.0*n)/(l*1.0))*I\n",
    "print(\"Expected B-field in Z %.6f [mT]\" %(Bz0*1e3))\n"
   ]
  },
  {
   "cell_type": "code",
   "execution_count": 4,
   "id": "54643c66-dec4-466a-8a4e-67975a55a638",
   "metadata": {},
   "outputs": [
    {
     "name": "stdout",
     "output_type": "stream",
     "text": [
      "the resulting transport matirx is given as: \n",
      "[[ 9.99999912e-01  1.19999993e+00  1.48163589e-04  3.55592609e-04]\n",
      " [-7.31748283e-08  9.99999912e-01 -2.16836913e-11  2.96327165e-04]\n",
      " [-2.96327165e-04 -3.55592609e-04  9.99999912e-01  1.19999993e+00]\n",
      " [ 2.16836913e-11 -2.96327165e-04  7.31748283e-08  9.99999912e-01]]\n"
     ]
    }
   ],
   "source": [
    "#create the transport matrix for the solenoid \n",
    "#Bz0 = 0.1           # [Tesla]  note Br = -(1/2) b0'(z)r for 1st order solutions range given by tania \n",
    "kl = Bz0/(2*Bp)      # \n",
    "d  = 1.5             # drift to the target \n",
    "P  = kl*l\n",
    "\n",
    "#defined as a function for easier use later \n",
    "def SolTransMatrix(P=0.5, kl=0.5):\n",
    "    return np.matrix([[        np.cos(P)**2     , (1.0/(2*kl))*np.sin(2*P)  , (1.0/(2))*np.sin(P)      , (1.0/(kl))*(np.sin(P)**2)],\n",
    "                     [ (-(kl)/2)*np.sin(2*P)    , np.cos(P)**2              , (-kl)*(np.sin(P)**2)     ,   (1.0/(2))*np.sin(2*P)  ],\n",
    "                     [ (-1.0/(2))*np.sin(2*P)   , (-1.0/(kl))*(np.sin(P)**2), np.cos(P)**2             , (1.0/(2*kl))*np.sin(2*P) ],\n",
    "                     [ (kl)*(np.sin(P)**2)      , (-1.0/(2))*np.sin(2*P)    , (kl/2)*np.sin(2*P)       , np.cos(P)**2             ]])\n",
    "print(\"the resulting transport matirx is given as: \")\n",
    "Msol= SolTransMatrix(P,kl)\n",
    "print(Msol)"
   ]
  },
  {
   "cell_type": "markdown",
   "id": "5f4b5a5d-b901-44e1-8be8-40fcb4f782d5",
   "metadata": {},
   "source": [
    "Multiply the beam with the additional transport drift space after the sol, where $M_d$ is the addtional drift space. <br>\n",
    "$$\n",
    "M_d=\n",
    "\\begin{bmatrix}\n",
    " 1   & l_d & 0   & 0 \\\\ \n",
    " 0   & 1   & 0   & 0 \\\\ \n",
    " 0   & 0   & 1   & l_d \\\\ \n",
    " 0   & 0   & 0   & 1\n",
    "\\end{bmatrix}\n",
    "$$\n",
    "<cb>\n",
    "This then gives the transported matrix from start to finish as:\n",
    "<cb>\n",
    "$$\n",
    "X_{Target} = M_d . M_{sol} . X_{beam}\n",
    "$$"
   ]
  },
  {
   "cell_type": "code",
   "execution_count": 5,
   "id": "7a5637b4-3ddf-420a-857d-b30ab5242729",
   "metadata": {},
   "outputs": [],
   "source": [
    "#drift matrix \n",
    "def DriftTransMatrix(l=0.5):\n",
    "    return np.matrix([[ 1 , l , 0 , 0  ],\n",
    "                      [ 0 , 1 , 0 , 0 ],\n",
    "                      [ 0 , 0 , 1 , l  ],\n",
    "                      [ 0 , 0 , 0 , 1 ]])\n",
    "                      "
   ]
  },
  {
   "cell_type": "code",
   "execution_count": 17,
   "id": "86a45aa5-5172-44b2-94d8-01c5013bd5b1",
   "metadata": {},
   "outputs": [
    {
     "name": "stdout",
     "output_type": "stream",
     "text": [
      "resulting beam from passage in solenoid\n",
      "[[ 1.60023675e-02 -1.17114419e-09  1.59952591e-02  1.17114419e-09]]\n",
      "this dives the overall change in the beam as\n",
      "[[-2.36745575e-06  1.17114419e-09  4.74088288e-06 -1.17114419e-09]]\n",
      "or simply  dr = \n",
      "0.002367456041508775  [mm]\n"
     ]
    }
   ],
   "source": [
    "# calcultaion of final transported beam \n",
    "Md = DriftTransMatrix(d)\n",
    "Ms = SolTransMatrix(P,kl)\n",
    "Mt = np.matmul(Ms,Md)\n",
    "Mt = np.matmul(Md,Mt)\n",
    "Xt = np.matmul(Mt,X)\n",
    "\n",
    "print(\"resulting beam from passage in solenoid\")\n",
    "print(Xt)\n",
    "print(\"this dives the overall change in the beam as\")\n",
    "delta = X-Xt\n",
    "print(delta)\n",
    "print(\"or simply  dr = \")\n",
    "r = np.sqrt((delta[0,0])**2+((delta[0,3])**2))*1000 \n",
    "print(r,\" [mm]\")\n",
    "\n"
   ]
  },
  {
   "cell_type": "code",
   "execution_count": 43,
   "id": "a669ebae-1c40-4446-bb25-23c8e0ffefa0",
   "metadata": {},
   "outputs": [
    {
     "name": "stdout",
     "output_type": "stream",
     "text": [
      "[1.00000000e-06 1.77827941e-06 3.16227766e-06 5.62341325e-06\n",
      " 1.00000000e-05 1.77827941e-05 3.16227766e-05 5.62341325e-05\n",
      " 1.00000000e-04 1.77827941e-04 3.16227766e-04 5.62341325e-04\n",
      " 1.00000000e-03 1.77827941e-03 3.16227766e-03 5.62341325e-03\n",
      " 1.00000000e-02 1.77827941e-02 3.16227766e-02 5.62341325e-02\n",
      " 1.00000000e-01 1.77827941e-01 3.16227766e-01 5.62341325e-01\n",
      " 1.00000000e+00]\n"
     ]
    },
    {
     "data": {
      "text/plain": [
       "Text(0.5, 1.0, 'Estimated Beam expansion from Target pump')"
      ]
     },
     "execution_count": 43,
     "metadata": {},
     "output_type": "execute_result"
    },
    {
     "data": {
      "image/png": "[encoded data removed]",
      "text/plain": [
       "<Figure size 432x288 with 1 Axes>"
      ]
     },
     "metadata": {
      "needs_background": "light"
     },
     "output_type": "display_data"
    }
   ],
   "source": [
    "# make a plot of the influence with scaling fields \n",
    "import matplotlib.pyplot as plt\n",
    "\n",
    "#define the B-field space to scan over \n",
    "minB = -6    # tesla 10 ^ value \n",
    "maxB = 0     # Tesla\n",
    "nSteps = 25 # number of the steps to take in space \n",
    "Bvar= np.logspace(minB,maxB,num=nSteps, base=10)\n",
    "print(Bvar)\n",
    "#resulting vector \n",
    "Res = np.zeros(len(Bvar))\n",
    "i=0\n",
    "while i< len(Bvar):    \n",
    "    kl =(Bvar[i])/(2*Bp)      # calculate k for this field \n",
    "    P  = kl*l\n",
    "    #make the transport matrix    \n",
    "    Md = DriftTransMatrix(d)\n",
    "    Ms = SolTransMatrix(P,kl)\n",
    "    Mt = np.matmul(Ms,Md)\n",
    "    Mt = np.matmul(Md,Mt)\n",
    "    Xt = np.matmul(Mt,X)\n",
    "    delta = X-Xt\n",
    "    r = np.sqrt((delta[0,0])**2+((delta[0,3])**2))*1000 \n",
    "    Res[i]= r\n",
    "    i+=1\n",
    "#plot the resulting effect \n",
    "#p1=plt.semilogx(Bvar,Res,'r', label = \"Beam Expansion\")\n",
    "p1=plt.loglog(Bvar,Res,'r', label = \"Beam Expansion\")\n",
    "plt.xlabel('Pump Stray B-field [T]')\n",
    "plt.ylabel('Beam Expansion [mm]')\n",
    "plt.grid()\n",
    "plt.title(\"Estimated Beam expansion from Target pump\")\n"
   ]
  },
  {
   "cell_type": "code",
   "execution_count": null,
   "id": "03d4c765-8057-418f-adf2-85f0dc8313bb",
   "metadata": {},
   "outputs": [],
   "source": []
  }
 ],
 "metadata": {
  "kernelspec": {
   "display_name": "Python 3 (ipykernel)",
   "language": "python",
   "name": "python3"
  },
  "language_info": {
   "codemirror_mode": {
    "name": "ipython",
    "version": 3
   },
   "file_extension": ".py",
   "mimetype": "text/x-python",
   "name": "python",
   "nbconvert_exporter": "python",
   "pygments_lexer": "ipython3",
   "version": "3.9.12"
  }
 },
 "nbformat": 4,
 "nbformat_minor": 5
}
