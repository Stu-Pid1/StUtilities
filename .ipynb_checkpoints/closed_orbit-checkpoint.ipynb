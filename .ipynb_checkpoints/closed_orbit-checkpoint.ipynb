{
 "cells": [
  {
   "cell_type": "markdown",
   "id": "b05328dd-0562-4267-bed3-38570f20bddd",
   "metadata": {},
   "source": [
    "# Closed orbit calulator\n",
    "based on the paper Nuclear Instruments and Methods in Physics Research A 647 https://doi.org/10.1016/j.nima.2011.05.052 Christian B \"Cyclotron closed orbits on a radial grid\""
   ]
  },
  {
   "cell_type": "markdown",
   "id": "b00ae51a-280b-4909-95c5-7b087581b068",
   "metadata": {},
   "source": [
    "## Units and simple functions "
   ]
  },
  {
   "cell_type": "code",
   "execution_count": 16,
   "id": "2ae8d3ba-73b5-493c-91e3-c78b5595f1b6",
   "metadata": {},
   "outputs": [
    {
     "name": "stdout",
     "output_type": "stream",
     "text": [
      "proton mass :  0.93827208816  GeV \n",
      "c :  299792458.0  m/s\n"
     ]
    }
   ],
   "source": [
    "import numpy as np\n",
    "import scipy.constants as const \n",
    "# define a units \n",
    "\n",
    "MassProt = const.physical_constants[\"proton mass energy equivalent in MeV\"]\n",
    "#print(MassProt)\n",
    "MassProt = MassProt[0]/1000\n",
    "c_si = const.c\n",
    "print(\"proton mass : \", MassProt, \" GeV \")\n",
    "print(\"c : \", c_si , \" m/s\")\n",
    "# get cyclotron radious unit a \n",
    "def get_a(w0 = 2, c = 1 ):\n",
    "    return  c/w0\n",
    "    \n",
    "# gamma \n",
    "def GetGamma(En = 0.002, mass = 0.9382):\n",
    "    return (En+mass)/mass\n",
    "# beta \n",
    "def GetBeta(En =0.002, mass = 0.9382):\n",
    "    return  np.sqrt( 1.0 - 1.0 /np.power(GetGamma(En,mass),2))\n",
    "# beta gamma \n",
    "def BetaGamma(En =0.002, mass = 0.9382):\n",
    "    return GetBeta(En=En, mass=mass)*GetGamma(En=En, mass=mass)\n",
    "# get angular velocity \n",
    "def GetW(freq = 5e6):\n",
    "    return 2*np.pi* freq\n",
    "\n",
    "def GetMom(En= 0.02, a = 299.8/5.063, mass = 0.938 ):\n",
    "    return BetaGamma(En = En, mass=mass)*a\n",
    "\n",
    "def RefField(mass = const.proton_mass, Q = const.elementary_charge, w0 = 2):\n",
    "    return (mass/Q)*w0"
   ]
  },
  {
   "cell_type": "code",
   "execution_count": 17,
   "id": "c3ca4769-a420-419f-861d-58be377b065f",
   "metadata": {},
   "outputs": [
    {
     "name": "stdout",
     "output_type": "stream",
     "text": [
      "gamma: \t 1.002131741632914\n",
      "beta: \t 0.06519117229313878\n",
      "betagamma:  0.06533014302921454\n",
      "W0: \t 31811767.210250244\n",
      "a: \t 9.423948566535538\n",
      "momentum:  3.868304100702627\n",
      "ref Feild:  0.33210482625966964\n"
     ]
    }
   ],
   "source": [
    "En = 0.002 # GeV \n",
    "freq = 5.0630e6  # cyclron freq in si \n",
    "\n",
    "print(\"gamma: \\t\", GetGamma(En = 0.002, mass = 0.9382))\n",
    "print(\"beta: \\t\", GetBeta(En = 0.002, mass = 0.9382))\n",
    "print(\"betagamma: \",BetaGamma(En = 0.002, mass = 0.9382) )\n",
    "print(\"W0: \\t\", GetW(freq=freq))\n",
    "print(\"a: \\t\", get_a(w0 = GetW(freq=freq) , c =c_si))\n",
    "print(\"momentum: \",GetMom(En= En, a = 299.8/5.063, mass = MassProt ))\n",
    "print(\"ref Feild: \", RefField(w0 = GetW(freq=freq)))"
   ]
  },
  {
   "cell_type": "markdown",
   "id": "30a779c6-f2a0-42b0-8d09-fd639641d68d",
   "metadata": {},
   "source": [
    "# load field map for transport to occur "
   ]
  },
  {
   "cell_type": "code",
   "execution_count": 10,
   "id": "7dd02eb7-4316-49ed-9e55-8e226d460289",
   "metadata": {},
   "outputs": [],
   "source": [
    "Dir =  \"/home/stu/OPALFruit/tunes/External_Input_Maps\"\n",
    "#FileName =\"inj55a_bfld.dat\"\n",
    "FileName = \"inj72_sector.opal\"\n",
    "#FileName = \"ring590_bfld.dat\"\n",
    "#FileName = \"ZYKL9Z.dat\""
   ]
  },
  {
   "cell_type": "code",
   "execution_count": 45,
   "id": "7729b1e9-eb2d-4519-9d5a-1ae98564b188",
   "metadata": {},
   "outputs": [
    {
     "name": "stdout",
     "output_type": "stream",
     "text": [
      "File Leaded\n",
      "R0:  240.0  mm \n",
      "dR:  20.0  mm\n",
      "Th0:  0.0 deg \n",
      "dTh:  -0.25 deg\n",
      "arcLen:  360 \n",
      "n_arcs:  179\n",
      "map has symmetry of 4 Start angle 0.0 end angle -360.0\n"
     ]
    }
   ],
   "source": [
    "import os\n",
    "import matplotlib.pyplot as plt \n",
    "import numpy as np \n",
    "import math\n",
    "\n",
    "#if its only a partial field map expand it to a full 360 \n",
    "ExpandToFull =True\n",
    "\n",
    "#load map \n",
    "data_headder = np.genfromtxt(os.path.join(Dir, FileName), max_rows= 6 )\n",
    "data = np.genfromtxt(os.path.join(Dir, FileName), skip_header= 6 )\n",
    "#print(data_headder)\n",
    "#print(data)\n",
    "if(len(data)>0 and len(data_headder)>0):\n",
    "    print(\"File Leaded\")\n",
    "    R0 = data_headder[0]\n",
    "    dR = data_headder[1]\n",
    "    Th0= data_headder[2]\n",
    "    dTh= data_headder[3]\n",
    "    arcLen = int(data_headder[4])\n",
    "    n_arcs = int(data_headder[5])\n",
    "    if(dTh<0):\n",
    "        symmetry = np.abs(dTh)\n",
    "        dTh=1/dTh\n",
    "    print(\"R0: \", R0, \" mm \\ndR: \",dR, \" mm\\nTh0: \",Th0 ,  \"deg \\ndTh: \",dTh , \"deg\\narcLen: \",arcLen , \"\\nn_arcs: \", n_arcs)\n",
    "    \n",
    "    data = np.reshape(data,(1, -1))\n",
    "    data = np.transpose(data)\n",
    "    #is the map symetric ?\n",
    "    if(np.mod(int(dTh*arcLen),360) == 0):\n",
    "        mapsym = 1\n",
    "        ExpandToFull = False\n",
    "    else:\n",
    "        mapsym = np.abs(int(np.floor(360.0/(dTh*arcLen))))\n",
    "    \n",
    "    \n",
    "    #\n",
    "    if(ExpandToFull):\n",
    "        fulldata = np.zeros([mapsym*len(data)])\n",
    "        for i in range(mapsym):\n",
    "            for j, d in enumerate(data): \n",
    "                fulldata[(i*len(data))+j] = d\n",
    "        \n",
    "        arcLen*=mapsym\n",
    "    \n",
    "    print(\"map has symmetry of\",mapsym,\"Start angle\",Th0 , \"end angle\", dTh*arcLen )     \n",
    "            \n",
    "            "
   ]
  },
  {
   "cell_type": "code",
   "execution_count": 51,
   "id": "2cea06e2-00f5-4ab6-b09d-67f1b75e98ee",
   "metadata": {},
   "outputs": [
    {
     "ename": "TypeError",
     "evalue": "GetFlutter() got an unexpected keyword argument 'arcLen'",
     "output_type": "error",
     "traceback": [
      "\u001b[0;31m---------------------------------------------------------------------------\u001b[0m",
      "\u001b[0;31mTypeError\u001b[0m                                 Traceback (most recent call last)",
      "Input \u001b[0;32mIn [51]\u001b[0m, in \u001b[0;36m<cell line: 4>\u001b[0;34m()\u001b[0m\n\u001b[1;32m      1\u001b[0m get_ipython()\u001b[38;5;241m.\u001b[39mrun_line_magic(\u001b[38;5;124m'\u001b[39m\u001b[38;5;124mrun\u001b[39m\u001b[38;5;124m'\u001b[39m, \u001b[38;5;124m\"\u001b[39m\u001b[38;5;124m'\u001b[39m\u001b[38;5;124m/home/stu/Software/JupiterNotes/Opal/My_Opal_functions.ipynb\u001b[39m\u001b[38;5;124m'\u001b[39m\u001b[38;5;124m\"\u001b[39m)\n\u001b[1;32m      2\u001b[0m \u001b[38;5;66;03m# some additonals \u001b[39;00m\n\u001b[0;32m----> 4\u001b[0m \u001b[38;5;28mprint\u001b[39m(\u001b[38;5;124m\"\u001b[39m\u001b[38;5;124mflutter: \u001b[39m\u001b[38;5;124m\"\u001b[39m, \u001b[43mGetFlutter\u001b[49m\u001b[43m(\u001b[49m\u001b[43mdt\u001b[49m\u001b[43m \u001b[49m\u001b[38;5;241;43m=\u001b[39;49m\u001b[43m \u001b[49m\u001b[43mfulldata\u001b[49m\u001b[43m,\u001b[49m\u001b[43m \u001b[49m\u001b[43marcLen\u001b[49m\u001b[43m \u001b[49m\u001b[38;5;241;43m=\u001b[39;49m\u001b[43m \u001b[49m\u001b[43marcLen\u001b[49m\u001b[43m,\u001b[49m\u001b[43m \u001b[49m\u001b[43mr\u001b[49m\u001b[43m \u001b[49m\u001b[38;5;241;43m=\u001b[39;49m\u001b[43m \u001b[49m\u001b[38;5;241;43m0\u001b[39;49m\u001b[43m,\u001b[49m\u001b[43m \u001b[49m\u001b[43mdr\u001b[49m\u001b[43m \u001b[49m\u001b[38;5;241;43m=\u001b[39;49m\u001b[43m \u001b[49m\u001b[38;5;241;43m1\u001b[39;49m\u001b[43m)\u001b[49m)\n",
      "\u001b[0;31mTypeError\u001b[0m: GetFlutter() got an unexpected keyword argument 'arcLen'"
     ]
    }
   ],
   "source": [
    "%run '/home/stu/Software/JupiterNotes/Opal/My_Opal_functions.ipynb'\n",
    "# some additonals \n",
    "\n",
    "print(\"flutter: \", GetFlutter(dt = fulldata, arcLen = arcLen, r = 0, dr = 1))"
   ]
  },
  {
   "cell_type": "markdown",
   "id": "795824b2-e132-42f4-b6ce-0d467e13ebd0",
   "metadata": {},
   "source": [
    "# Runge-kutta integrator \n",
    "The integrator needed to approximate the particle field influence over a discrete step."
   ]
  },
  {
   "cell_type": "code",
   "execution_count": null,
   "id": "f9402c7b-9d79-41a7-b99f-94e013bb5cb2",
   "metadata": {},
   "outputs": [],
   "source": []
  }
 ],
 "metadata": {
  "kernelspec": {
   "display_name": "Python 3 (ipykernel)",
   "language": "python",
   "name": "python3"
  },
  "language_info": {
   "codemirror_mode": {
    "name": "ipython",
    "version": 3
   },
   "file_extension": ".py",
   "mimetype": "text/x-python",
   "name": "python",
   "nbconvert_exporter": "python",
   "pygments_lexer": "ipython3",
   "version": "3.8.10"
  }
 },
 "nbformat": 4,
 "nbformat_minor": 5
}
