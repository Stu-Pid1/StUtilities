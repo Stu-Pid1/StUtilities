{
 "cells": [
  {
   "cell_type": "markdown",
   "id": "f75d5ead-9281-47e9-98ef-28c60426eaad",
   "metadata": {},
   "source": [
    "# tools \n",
    "A collection of useful functions for generic use "
   ]
  },
  {
   "cell_type": "code",
   "execution_count": null,
   "id": "3f9cea18-71ff-460e-a7e9-2d465756b6c7",
   "metadata": {},
   "outputs": [],
   "source": []
  }
 ],
 "metadata": {
  "kernelspec": {
   "display_name": "Python 3 (ipykernel)",
   "language": "python",
   "name": "python3"
  },
  "language_info": {
   "codemirror_mode": {
    "name": "ipython",
    "version": 3
   },
   "file_extension": ".py",
   "mimetype": "text/x-python",
   "name": "python",
   "nbconvert_exporter": "python",
   "pygments_lexer": "ipython3",
   "version": "3.8.10"
  }
 },
 "nbformat": 4,
 "nbformat_minor": 5
}
