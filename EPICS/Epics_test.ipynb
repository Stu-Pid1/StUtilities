{
 "cells": [
  {
   "cell_type": "markdown",
   "id": "0511b1aa-6a95-4b48-8a7d-e096455e6118",
   "metadata": {},
   "source": [
    "# A fist attempt at EPICS\n",
    "Here i will try make a simple EPICS server to communicate to a separate script with fake data "
   ]
  },
  {
   "cell_type": "code",
   "execution_count": 1,
   "id": "a26ca144-7480-49a7-babe-291d8fe6e72e",
   "metadata": {},
   "outputs": [
    {
     "name": "stdout",
     "output_type": "stream",
     "text": [
      "found epics at \n",
      "  /home/stu/.local/lib/python3.8/site-packages/epics/clibs/linux64/libca.so\n"
     ]
    }
   ],
   "source": [
    "#include all libs and tools \n",
    "\n",
    "import numpy as np\n",
    "import epics \n",
    "print(\"found epics at \\n \",epics.ca.find_libca())\n",
    "\n"
   ]
  },
  {
   "cell_type": "code",
   "execution_count": 23,
   "id": "40adbebc-7fe3-42e6-924e-eb820059a327",
   "metadata": {},
   "outputs": [],
   "source": [
    "import threading\n",
    "import time  \n",
    "    \n",
    "def GenServer(file = 'FakeyMakey.db', devices =[]):\n",
    "    #generate file\n",
    "    f= open(file,'w')\n",
    "    for i, nm in enumerate(devices):\n",
    "        s = 'record(ai, \"' + nm['Name'] +'\")\\n{\\n'\n",
    "        s+= '\\t field(DESC,\"'+nm.get('Desc')+'\")\\n'\n",
    "        s+= '\\n}\\n'\n",
    "        f.write(s)\n",
    "    f.close()\n",
    "    \n"
   ]
  },
  {
   "cell_type": "code",
   "execution_count": 25,
   "id": "d620dc8f-7330-461b-8bec-3f0e8be0b8a6",
   "metadata": {},
   "outputs": [
    {
     "name": "stdout",
     "output_type": "stream",
     "text": [
      "/mnt/c/Users/warren_s/OneDrive/codes/Opal/JupiterNotes/Utilities/EPICS\n"
     ]
    }
   ],
   "source": [
    "#make fake server \n",
    "srv = [{'Name':'BW2:STA:2'      ,'Desc':'Status of a beam stopper'},\n",
    "       {'Name': 'T-MXC1:IST:2'  ,'Desc': 'MXC1 current'},\n",
    "       {'Name': 'T-MXC2:IST:2'  ,'Desc': 'MXC2 current' },\n",
    "       {'Name': 'T-MNC3:IST:2'  ,'Desc': 'MNC3 current' },\n",
    "       {'Name': 'MHC2B:IST:2'   ,'Desc': 'Bergoz CT, as reference' },\n",
    "       {'Name': 'T-MHC1:IST:2'  ,'Desc': 'MHC1 current'},\n",
    "       {'Name': 'T-MHC2:IST:2'  ,'Desc': 'MHC2 current' },\n",
    "       {'Name': 'T-MHC3:IST:2'  ,'Desc': 'MHC3 current' },\n",
    "       {'Name': 'T-MHC4:IST:2'  ,'Desc': 'MHC4 current' },\n",
    "       {'Name': 'T-MHC5:IST:2'  ,'Desc': 'MHC5 current' },\n",
    "       {'Name': 'MHC6B:IST:2'   ,'Desc': 'Bergoz CT, as reference' },\n",
    "       {'Name': 'T-MXC1:EICH:1' ,'Desc': 'Old Calibration factor' },\n",
    "       {'Name': 'T-MXC2:EICH:1' ,'Desc': 'Old Calibration factor' },\n",
    "       {'Name': 'T-MNC3:EICH:1' ,'Desc': 'Old Calibration factor' },\n",
    "       {'Name': 'T-MHC1:EICH:1' ,'Desc': 'Old Calibration factor' },\n",
    "       {'Name': 'T-MHC2:EICH:1' ,'Desc': 'Old Calibration factor' },\n",
    "       {'Name': 'T-MHC3:EICH:1' ,'Desc': 'Old Calibration factor' },\n",
    "       {'Name': 'T-MHC4:EICH:1' ,'Desc': 'Old Calibration factor' },\n",
    "       {'Name': 'T-MHC5:EICH:1' ,'Desc': 'Old Calibration factor' }]\n",
    "\n",
    "GenServer(file = \"FakeServer.db\", devices=srv)   \n"
   ]
  },
  {
   "cell_type": "code",
   "execution_count": 9,
   "id": "099d86ac-7295-491a-a422-3b6fbdde0e70",
   "metadata": {},
   "outputs": [],
   "source": [
    "import pvaccess\n",
    "import numpy as np\n",
    "import epics \n",
    "\n",
    "#init interger \n",
    "\n",
    "pv1 = pvaccess.PvObject({'boob' : int(2)})\n",
    "\n"
   ]
  },
  {
   "cell_type": "code",
   "execution_count": 28,
   "id": "c41584b3-bb2a-42a4-920b-00fe65e9253c",
   "metadata": {},
   "outputs": [
    {
     "name": "stdout",
     "output_type": "stream",
     "text": [
      "<PV 'T-MHC1:EICH:1', count=1, type=time_double, access=read/write>\n"
     ]
    },
    {
     "name": "stderr",
     "output_type": "stream",
     "text": [
      "CA.Client.Exception...............................................\n",
      "    Warning: \"Virtual circuit disconnect\"\n",
      "    Context: \"pcp044323.psi.ch:5064\"\n",
      "    Source File: ../cac.cpp line 1237\n",
      "    Current Time: Tue Mar 21 2023 15:17:27.883970200\n",
      "..................................................................\n",
      "CAC: error = \"Network is unreachable\" sending UDP msg to 129.129.150.255:5064\n",
      "CAC: error = \"Network is unreachable\" sending UDP msg to 129.129.150.255:5064\n",
      "CAC: error = \"Network is unreachable\" sending UDP msg to 129.129.150.255:5064\n",
      "CAC: error = \"Network is unreachable\" sending UDP msg to 129.129.150.255:5064\n",
      "CAC: error = \"Network is unreachable\" sending UDP msg to 129.129.150.255:5064\n",
      "CAC: error = \"Network is unreachable\" sending UDP msg to 129.129.150.255:5064\n",
      "CAC: error = \"Network is unreachable\" sending UDP msg to 129.129.150.255:5064\n",
      "CAC: error = \"Network is unreachable\" sending UDP msg to 129.129.150.255:5064\n",
      "CAC: error = \"Network is unreachable\" sending UDP msg to 129.129.150.255:5064\n",
      "CA.Client.Exception...............................................\n",
      "    Warning: \"Virtual circuit disconnect\"\n",
      "    Context: \"PC15605.psi.ch:5064\"\n",
      "    Source File: ../cac.cpp line 1237\n",
      "    Current Time: Wed Mar 22 2023 16:05:40.556668600\n",
      "..................................................................\n"
     ]
    }
   ],
   "source": [
    "pv2 = epics.PV('T-MHC1:EICH:1')\n",
    "print(pv2)"
   ]
  },
  {
   "cell_type": "code",
   "execution_count": 3,
   "id": "fdd86e0b-0680-4ff8-9792-eff326201106",
   "metadata": {},
   "outputs": [
    {
     "name": "stdout",
     "output_type": "stream",
     "text": [
      "cannot connect to cheese:mass\n",
      "epics value:  None\n"
     ]
    }
   ],
   "source": [
    "#read data \n",
    "this_ai = epics.caget('cheese:mass')\n",
    "print (\"epics value: \", this_ai)"
   ]
  }
 ],
 "metadata": {
  "kernelspec": {
   "display_name": "Python 3 (ipykernel)",
   "language": "python",
   "name": "python3"
  },
  "language_info": {
   "codemirror_mode": {
    "name": "ipython",
    "version": 3
   },
   "file_extension": ".py",
   "mimetype": "text/x-python",
   "name": "python",
   "nbconvert_exporter": "python",
   "pygments_lexer": "ipython3",
   "version": "3.8.10"
  }
 },
 "nbformat": 4,
 "nbformat_minor": 5
}
